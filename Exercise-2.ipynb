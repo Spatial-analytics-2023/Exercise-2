{
 "cells": [
  {
   "cell_type": "markdown",
   "id": "0da7e6e9",
   "metadata": {},
   "source": [
    "# Exercise 2 \n",
    "\n",
    "Exercise 2 includes four problems that you need to solve with programming, and by providing answers to questions. For each problem you need to modify the notebook by adding your own solutions. Remember to save and commit your changes locally, and push your changes to GitHub after each major change! Regular commits will help you to keep track of your changes (and revert them if needed). Pushing your work to GitHub will ensure that you don't lose any work in case your computer crashes (can happen!).\n",
    "\n",
    "### Time allocation\n",
    "\n",
    "**Completing this exercise takes approximately: 6-10 hours** (based on previous year statistics). However, the time it takes can vary significantly from student to student, so we recommended that you start immediately working on the exercise to avoid issues meeting with the deadline.  \n",
    "\n",
    "### Due date\n",
    "\n",
    "You should submit (push) your Exercise answers to your personal Github repository **~2.5 weeks after the release of the Exercise (i.e. submit by 23:59 on Sunday 20th November)**. \n",
    "      \n",
    "### Start your exercise in CSC Notebooks\n",
    "\n",
    "Before you can start programming, you need to launch the CSC Notebook instance and clone your **personal copy of the Exercise repository** (i.e. something like `exercise-2-htenkanen`) there using Git. If you need help with this, [read the documentation on the course site](https://spatial-analytics.readthedocs.io/en/latest/lessons/L1/git-basics.html).\n",
    "\n",
    "### Working with Jupyter Notebooks\n",
    "\n",
    "Jupyter Notebooks are documents that can be used and run inside the JupyterLab programming environment (e.g. at [notebooks.csc.fi](https://notebooks.csc.fi/)) containing the computer code and rich text elements (such as text, figures, tables and links). \n",
    "\n",
    "**A couple of hints**:\n",
    "\n",
    "- You can **execute a cell** by clicking a given cell that you want to run and pressing <kbd>Shift</kbd> + <kbd>Enter</kbd> (or by clicking the \"Play\" button on top)\n",
    "- You can **change the cell-type** between `Markdown` (for writing text) and `Code` (for writing/executing code) from the dropdown menu above. \n",
    "\n",
    "See [**further details and help from here**](https://pythongis.org/part1/chapter-01/nb/04-using-jupyterlab.html). \n",
    "\n",
    "### Hints\n",
    "\n",
    "If there are general questions arising from this exercise, we will add hints to the course website under [Exercise 2 description](https://spatial-analytics.readthedocs.io/en/latest/lessons/L2/exercise-2.html)."
   ]
  },
  {
   "cell_type": "markdown",
   "id": "13f523f3",
   "metadata": {},
   "source": [
    "## Problem 1: Prepare and explore the data (7 points)\n",
    "\n",
    "*Implementing these successfully gives you 5.5 of the points allocated for problem 1*:\n",
    "\n",
    "Next, you will study areal data describing the population distribution in Helsinki Region. The data is provided by Statistics Finland. We will obtain the data using the WFS API of Statistics Finland, which is handy because we can directly read the data into geopandas by passing a special request call to it (which we provide below). \n",
    "\n",
    "\n",
    "1. Download the data from Statistics Finland into a GeoDataFrame using the `gpd.read_file()` function\n",
    "\n",
    "2. Create a subset of the data by selecting municipalities for Helsinki Region (i.e. \"kunta\" with values \"091\", \"049\", \"092\" and \"235\"). \n",
    "   - ***Hint***: You can do this by combining the `.loc[]` indexing with `.isin()` query as demonstrated in [this tutorial from pythongis.org](https://pythongis.org/part1/chapter-03/nb/01-data-manipulation.html#selections-using-listed-criteria).\n",
    "\n",
    "3. Reset the index using `data.reset_index(drop=True)` which will ensure that the index values in your data increase sequentially starting from 0.\n",
    "\n",
    "3. Drop all other columns except \"geometry\", \"pt_vakiy\" and \"postinumeroalue\" (postal code) --> i.e. select those columns from the data (check [Geo-Python course](https://geo-python-site.readthedocs.io/en/latest/notebooks/L5/exploring-data-using-pandas.html#selecting-columns) for help).\n",
    "\n",
    "4. Calculate the population density into a column `\"pop_density_km2\"` for each postal code (pop per square kilometer). Notice, that after the reprojection, the geometrical units are represented as meters.\n",
    "\n",
    "5. Create an interactive map showing the population density in Helsinki Region. For doing the interactive map, you can use a method `data.explore(\"pop_density_km2\"`). As a result, you should get something like below:\n",
    "\n",
    "![Helsinki Region Population density](img/helsinki_pop_density.png)\n",
    "\n",
    "\n"
   ]
  },
  {
   "cell_type": "code",
   "execution_count": null,
   "id": "7b3cf5c1",
   "metadata": {
    "deletable": false,
    "nbgrader": {
     "cell_type": "code",
     "checksum": "594cd2d00f43e2c5d572fc43c4f7c9b3",
     "grade": true,
     "grade_id": "cell-2798a7e90e3701ee",
     "locked": false,
     "points": 7,
     "schema_version": 3,
     "solution": true,
     "task": false
    }
   },
   "outputs": [],
   "source": [
    "# URL for postal code level data from Statistics Finland\n",
    "url = \"http://geo.stat.fi/geoserver/postialue/wfs?request=GetFeature&typename=postialue:pno_tilasto_2020&outputformat=JSON\"\n",
    "\n",
    "# REPLACE THE ERROR BELOW WITH YOUR OWN CODE\n",
    "raise NotImplementedError()"
   ]
  },
  {
   "cell_type": "markdown",
   "id": "82ddca23-bc9c-4848-add8-d4209ebd9061",
   "metadata": {
    "jp-MarkdownHeadingCollapsed": true,
    "tags": []
   },
   "source": [
    "### Questions\n",
    "\n",
    "*Correct answers gives you 1.5 points allocated to problem 1*.\n",
    "\n",
    "Use programming to find out the answers for the first two questions:\n",
    "\n",
    " - Question 1.1: Which postal code area has the **highest** population density? How many people per square kilometer there are?\n",
    " - Question 1.2: Which postal code area has the **lowest** population density? How many people per square kilometer there are?\n",
    " - Question 1.3: Why is it important to use population density instead of the original population count in the analysis? Describe."
   ]
  },
  {
   "cell_type": "markdown",
   "id": "f2d920f8-2668-440a-b0f4-0c6b78da0def",
   "metadata": {},
   "source": [
    "### Answers\n",
    "\n",
    "Answer to the questions by adding text after the `Answer` bullet points below:"
   ]
  },
  {
   "cell_type": "markdown",
   "id": "10f32c1d-ee39-43b9-a574-042088bee8de",
   "metadata": {},
   "source": [
    "(Hint: double-click this cell to activate editing)\n",
    "- Answer for Q1.1:\n",
    "- Answer for Q1.2:\n",
    "- Answer for Q1.3:"
   ]
  },
  {
   "cell_type": "markdown",
   "id": "ebb278a1",
   "metadata": {},
   "source": [
    "## Problem 2: Investigate spatial autocorrelation (8 points)\n",
    "\n",
    "### Coding \n",
    "\n",
    "*Implementing these successfully gives you 4 points allocated for problem 2*:\n",
    "\n",
    "1. Create spatial weights based on how the boundaries of our postal code areas touch each other. Create the weights based on the data GeoDataFrame using **Queen contiguity** and store the resulting weights into a variable `w`. For creating the spatial weights, you can use the `weights` submodule from pysal library (see [docs](https://pysal.org/libpysal/generated/libpysal.weights.Queen.html#libpysal-weights-queen)). If you need further information, we also recommend checking [chapter 4](https://geographicdata.science/book/notebooks/04_spatial_weights.html) from \"Geographic Data Science with Python\" book (Rey et al. 2023). \n",
    "\n",
    "2. Drop possible islands by using a pandas method `.drop()` (see [docs](https://pandas.pydata.org/docs/reference/api/pandas.DataFrame.drop.html)). For the sake of simplicity we just ignore the islands in our analysis. You can get the index values of the islands from the weights by calling `w.islands`. Then, reset the index of the GeoDataFrame, and recreate the weights using Queen contiguity (in a similar manner as in step 1). \n",
    "\n",
    "3. Row standardize the weights by using `w.transform` (without standardization, the spatial weights may merely reflect the number of neighbors an observation has).\n",
    "\n",
    "4. Calculate the Moran's I based on the **population density** and using the spatial weights that we created in the previous step. For doing this, you can use the `Moran()` function from the pysal library, which accepts the Series of our population density column as one parameter and the weights as another, check the pysal docs for details. \n",
    "\n",
    "   - *Hint*: You can import the `Moran()` function as follows: `from esda.moran import Moran`.\n",
    "\n",
    "5. What is the global Moran's I for our data? \n",
    "\n",
    "6. Create a Moran plot based on our data that allows us to investigate the spatial autocorrelation visually. For doing this, you can use a `plot_moran()` -function from pysal's splot submodule. \n",
    "   - *Hint*: You can import the `plot_moran()` function as follows: `from splot.esda import plot_moran`.\n",
    "   - Sanity check: if everything is correct Moran plot should produce something like following (Moran's I value is hidden):\n",
    "\n",
    "![Moran plot](img/Moran_plot.png)"
   ]
  },
  {
   "cell_type": "code",
   "execution_count": null,
   "id": "e4f62c7c",
   "metadata": {
    "deletable": false,
    "nbgrader": {
     "cell_type": "code",
     "checksum": "402a306e8f1e587c227a6b22704b6c99",
     "grade": true,
     "grade_id": "cell-649f43c28bbd329b",
     "locked": false,
     "points": 8,
     "schema_version": 3,
     "solution": true,
     "task": false
    }
   },
   "outputs": [],
   "source": [
    "# REPLACE THE ERROR BELOW WITH YOUR OWN CODE\n",
    "raise NotImplementedError()"
   ]
  },
  {
   "cell_type": "markdown",
   "id": "91f6a17c-0674-415f-8e43-2cec519f72a7",
   "metadata": {},
   "source": [
    "### Questions \n",
    "\n",
    "*Correct answers gives you 4 points allocated to problem 2*.\n",
    "\n",
    "  - Question 2.1: Why do we need to create spatial weights? For what purpose are they for?\n",
    "  - Question 2.2: What happens to the spatial weights after row standardization?\n",
    "  - Question 2.3: Why is it important/good to row standardize spatial weights?\n",
    "  - Question 2.4: Based on the Moran's I value that you received for the Problem 2, is there spatial autocorrelation in the data? Is it positive or negative?\n",
    " - Question 2.5: What does the result mean? I.e. describe what the spatial autocorrelation indicates in this case? \n",
    " - Question 2.6: Why is it important to understand whether your data is spatially autocorrelated (or not)?"
   ]
  },
  {
   "cell_type": "markdown",
   "id": "e1049438-d078-46b9-b88e-f1bbd122149d",
   "metadata": {},
   "source": [
    "### Answers\n",
    "\n",
    "Answer to the questions by adding text after the `Answer` bullet point, below (hint: check the lecture materials/videos):"
   ]
  },
  {
   "cell_type": "markdown",
   "id": "58a1f825-37e2-4592-8ec0-f378c43e8e73",
   "metadata": {},
   "source": [
    "(hint: double-click this cell to activate editing)\n",
    "\n",
    "- Answer for Q2.1:\n",
    "- Answer for Q2.2:\n",
    "- Answer for Q2.3:\n",
    "- Answer for Q2.4:\n",
    "- Answer for Q2.5:\n",
    "- Answer for Q2.6:"
   ]
  },
  {
   "cell_type": "markdown",
   "id": "280d8edd",
   "metadata": {},
   "source": [
    "## Problem 3 - Repeate the analysis for an attribute of your own interest (4 points)\n",
    "\n",
    "*Implementing these successfully gives you 2 points allocated for problem 3*:\n",
    "\n",
    "Download the data from Statistics Finland into a GeoDataFrame using the `gpd.read_file()` function in a similar manner as was done in the Problem 1. Choose an attribute that interests you (there are plenty to choose from!), and repeat the spatial autocorrelation analysis for the attribute of your choise (follow the approaches introduced in Problem 2). You can also investigate other municipalities than the ones in Helsinki Region, if you wish (optional). Read the definitions and documentation for all attributes of the Statistical dataset from pages 5-7 in [this PDF file](https://www.stat.fi/static/media/uploads/tup/paavo/paavo_kuvaus_en.pdf)."
   ]
  },
  {
   "cell_type": "code",
   "execution_count": null,
   "id": "db079e11",
   "metadata": {
    "deletable": false,
    "nbgrader": {
     "cell_type": "code",
     "checksum": "99acea0dccad7891f4af8e6d2bbc8f16",
     "grade": true,
     "grade_id": "cell-de14ba2b849e911f",
     "locked": false,
     "points": 4,
     "schema_version": 3,
     "solution": true,
     "task": false
    }
   },
   "outputs": [],
   "source": [
    "# URL for postal code level data from Statistics Finland\n",
    "url = \"http://geo.stat.fi/geoserver/postialue/wfs?request=GetFeature&typename=postialue:pno_tilasto_2020&outputformat=JSON\"\n",
    "\n",
    "# REPLACE THE ERROR BELOW WITH YOUR OWN CODE\n",
    "raise NotImplementedError()"
   ]
  },
  {
   "cell_type": "markdown",
   "id": "45e0673f-0e7f-41d2-863b-b81b2c04c222",
   "metadata": {},
   "source": [
    "### Questions\n",
    "\n",
    "*Sufficient description gives you 2 points allocated to problem 3*.\n",
    "\n",
    "- Question 3.1: Based on your analysis, describe whether your data is spatially autocorrelated or not: Write a short summary of your findings (few sentences)."
   ]
  },
  {
   "cell_type": "markdown",
   "id": "29b7bb57-81a9-4cef-8489-3d3a14c70856",
   "metadata": {},
   "source": [
    "### Answers\n",
    "\n",
    "Answer to the questions by adding text after the `Answer` bullet point."
   ]
  },
  {
   "cell_type": "markdown",
   "id": "229d0c84-833a-487a-a9f1-3d06bd776913",
   "metadata": {},
   "source": [
    "(hint: double-click this cell to activate editing)\n",
    "\n",
    "- Answer for Q3.1: "
   ]
  },
  {
   "cell_type": "markdown",
   "id": "925d7a06",
   "metadata": {},
   "source": [
    "## Problem 4 - How long did it take? Optional feedback (1 point)\n",
    "\n",
    "To help developing the exercises, and understanding the time that it took for you to finish the Exercise, please provide an estimate of how many hours you spent for doing this exercise?\n",
    "\n",
    " - I spent approximately this many hours: **X hours**\n",
    " \n",
    "In addition, if you would like to give any feedback about the exercise (optional), please provide it below:\n",
    "\n",
    " - My feedback:"
   ]
  }
 ],
 "metadata": {
  "kernelspec": {
   "display_name": "Python 3 (ipykernel)",
   "language": "python",
   "name": "python3"
  },
  "language_info": {
   "codemirror_mode": {
    "name": "ipython",
    "version": 3
   },
   "file_extension": ".py",
   "mimetype": "text/x-python",
   "name": "python",
   "nbconvert_exporter": "python",
   "pygments_lexer": "ipython3",
   "version": "3.11.6"
  }
 },
 "nbformat": 4,
 "nbformat_minor": 5
}
